{
  "nbformat": 4,
  "nbformat_minor": 0,
  "metadata": {
    "colab": {
      "provenance": [],
      "gpuType": "T4",
      "authorship_tag": "ABX9TyM/0J7+Mjp/9n19Dv52DBfK",
      "include_colab_link": true
    },
    "kernelspec": {
      "name": "python3",
      "display_name": "Python 3"
    },
    "language_info": {
      "name": "python"
    },
    "accelerator": "GPU"
  },
  "cells": [
    {
      "cell_type": "markdown",
      "metadata": {
        "id": "view-in-github",
        "colab_type": "text"
      },
      "source": [
        "<a href=\"https://colab.research.google.com/github/jronald88/Time_series_alt/blob/main/time_series_alt.ipynb\" target=\"_parent\"><img src=\"https://colab.research.google.com/assets/colab-badge.svg\" alt=\"Open In Colab\"/></a>"
      ]
    },
    {
      "cell_type": "markdown",
      "source": [
        "#**All Imports**"
      ],
      "metadata": {
        "id": "jfKd1PipAYHc"
      }
    },
    {
      "cell_type": "code",
      "source": [
        "!pip install colorama==0.4.6"
      ],
      "metadata": {
        "colab": {
          "base_uri": "https://localhost:8080/"
        },
        "id": "iGH9eI4kj4Ct",
        "outputId": "81e2de43-67d5-4e76-843a-7f57a74b5a75"
      },
      "execution_count": 1,
      "outputs": [
        {
          "output_type": "stream",
          "name": "stdout",
          "text": [
            "Collecting colorama==0.4.6\n",
            "  Downloading colorama-0.4.6-py2.py3-none-any.whl.metadata (17 kB)\n",
            "Downloading colorama-0.4.6-py2.py3-none-any.whl (25 kB)\n",
            "Installing collected packages: colorama\n",
            "Successfully installed colorama-0.4.6\n"
          ]
        }
      ]
    },
    {
      "cell_type": "code",
      "source": [
        "!pip install pmdarima"
      ],
      "metadata": {
        "colab": {
          "base_uri": "https://localhost:8080/"
        },
        "id": "PX7VgrvcoZvl",
        "outputId": "248af0ed-b451-40ac-bd9c-45189da3f21e"
      },
      "execution_count": 2,
      "outputs": [
        {
          "output_type": "stream",
          "name": "stdout",
          "text": [
            "Collecting pmdarima\n",
            "  Downloading pmdarima-2.0.4-cp310-cp310-manylinux_2_17_x86_64.manylinux2014_x86_64.manylinux_2_28_x86_64.whl.metadata (7.8 kB)\n",
            "Requirement already satisfied: joblib>=0.11 in /usr/local/lib/python3.10/dist-packages (from pmdarima) (1.4.2)\n",
            "Requirement already satisfied: Cython!=0.29.18,!=0.29.31,>=0.29 in /usr/local/lib/python3.10/dist-packages (from pmdarima) (3.0.11)\n",
            "Requirement already satisfied: numpy>=1.21.2 in /usr/local/lib/python3.10/dist-packages (from pmdarima) (1.26.4)\n",
            "Requirement already satisfied: pandas>=0.19 in /usr/local/lib/python3.10/dist-packages (from pmdarima) (2.2.2)\n",
            "Requirement already satisfied: scikit-learn>=0.22 in /usr/local/lib/python3.10/dist-packages (from pmdarima) (1.5.2)\n",
            "Requirement already satisfied: scipy>=1.3.2 in /usr/local/lib/python3.10/dist-packages (from pmdarima) (1.13.1)\n",
            "Requirement already satisfied: statsmodels>=0.13.2 in /usr/local/lib/python3.10/dist-packages (from pmdarima) (0.14.3)\n",
            "Requirement already satisfied: urllib3 in /usr/local/lib/python3.10/dist-packages (from pmdarima) (2.2.3)\n",
            "Requirement already satisfied: setuptools!=50.0.0,>=38.6.0 in /usr/local/lib/python3.10/dist-packages (from pmdarima) (71.0.4)\n",
            "Requirement already satisfied: packaging>=17.1 in /usr/local/lib/python3.10/dist-packages (from pmdarima) (24.1)\n",
            "Requirement already satisfied: python-dateutil>=2.8.2 in /usr/local/lib/python3.10/dist-packages (from pandas>=0.19->pmdarima) (2.8.2)\n",
            "Requirement already satisfied: pytz>=2020.1 in /usr/local/lib/python3.10/dist-packages (from pandas>=0.19->pmdarima) (2024.2)\n",
            "Requirement already satisfied: tzdata>=2022.7 in /usr/local/lib/python3.10/dist-packages (from pandas>=0.19->pmdarima) (2024.2)\n",
            "Requirement already satisfied: threadpoolctl>=3.1.0 in /usr/local/lib/python3.10/dist-packages (from scikit-learn>=0.22->pmdarima) (3.5.0)\n",
            "Requirement already satisfied: patsy>=0.5.6 in /usr/local/lib/python3.10/dist-packages (from statsmodels>=0.13.2->pmdarima) (0.5.6)\n",
            "Requirement already satisfied: six in /usr/local/lib/python3.10/dist-packages (from patsy>=0.5.6->statsmodels>=0.13.2->pmdarima) (1.16.0)\n",
            "Downloading pmdarima-2.0.4-cp310-cp310-manylinux_2_17_x86_64.manylinux2014_x86_64.manylinux_2_28_x86_64.whl (2.1 MB)\n",
            "\u001b[2K   \u001b[90m━━━━━━━━━━━━━━━━━━━━━━━━━━━━━━━━━━━━━━━━\u001b[0m \u001b[32m2.1/2.1 MB\u001b[0m \u001b[31m22.9 MB/s\u001b[0m eta \u001b[36m0:00:00\u001b[0m\n",
            "\u001b[?25hInstalling collected packages: pmdarima\n",
            "Successfully installed pmdarima-2.0.4\n"
          ]
        }
      ]
    },
    {
      "cell_type": "code",
      "execution_count": 3,
      "metadata": {
        "id": "nYYoKmBdG-hP"
      },
      "outputs": [],
      "source": [
        "import pandas as pd\n",
        "import numpy as np\n",
        "import matplotlib.pyplot as plt\n",
        "import seaborn as sns\n",
        "\n",
        "from statsmodels.tsa.stattools import adfuller\n",
        "from statsmodels.tsa.seasonal import seasonal_decompose\n",
        "from statsmodels.graphics.tsaplots import plot_acf, plot_pacf\n",
        "from statsmodels.tsa.arima.model import ARIMA\n",
        "from statsmodels.tsa.arima_model import ARIMAResults\n",
        "import missingno as msno\n",
        "from statsmodels.tsa.holtwinters import SimpleExpSmoothing\n",
        "from statsmodels.tsa.holtwinters import ExponentialSmoothing\n",
        "from statsmodels.tsa.holtwinters import Holt\n",
        "from pandas.plotting import autocorrelation_plot\n",
        "from statsmodels.tsa.stattools import acf, pacf\n",
        "from statsmodels.tsa.statespace.sarimax import SARIMAX\n",
        "from prophet import Prophet\n",
        "from sklearn.metrics import mean_absolute_error, mean_squared_error\n",
        "from colorama import Fore\n",
        "import datetime\n",
        "from datetime import date\n",
        "from sklearn.model_selection import GridSearchCV\n",
        "from sklearn.ensemble import RandomForestRegressor\n",
        "from sklearn.model_selection import train_test_split\n",
        "from sklearn.metrics import mean_squared_error, mean_absolute_error, r2_score\n",
        "from pmdarima import auto_arima\n",
        "\n",
        "\n",
        "import warnings\n",
        "warnings.filterwarnings('ignore')\n",
        "\n"
      ]
    },
    {
      "cell_type": "code",
      "source": [
        "url = \"https://raw.githubusercontent.com/4GeeksAcademy/alternative-time-series-project/main/sales.csv\""
      ],
      "metadata": {
        "id": "47GqGiTlATh-"
      },
      "execution_count": 4,
      "outputs": []
    },
    {
      "cell_type": "code",
      "source": [
        "df = pd.read_csv(url)"
      ],
      "metadata": {
        "id": "MSp-9VkZAWLc"
      },
      "execution_count": 5,
      "outputs": []
    },
    {
      "cell_type": "markdown",
      "source": [
        "#**Data Inspection**"
      ],
      "metadata": {
        "id": "eg0qF55gZ5io"
      }
    },
    {
      "cell_type": "code",
      "source": [
        "df.head()"
      ],
      "metadata": {
        "colab": {
          "base_uri": "https://localhost:8080/",
          "height": 206
        },
        "id": "5JHZObM3AixC",
        "outputId": "0b0304e8-8d46-4227-b73a-077303c1eeed"
      },
      "execution_count": 6,
      "outputs": [
        {
          "output_type": "execute_result",
          "data": {
            "text/plain": [
              "                         date      sales\n",
              "0  2022-09-03 17:10:08.079328  55.292157\n",
              "1  2022-09-04 17:10:08.079328  53.803211\n",
              "2  2022-09-05 17:10:08.079328  58.141693\n",
              "3  2022-09-06 17:10:08.079328  64.530899\n",
              "4  2022-09-07 17:10:08.079328  66.013633"
            ],
            "text/html": [
              "\n",
              "  <div id=\"df-bf6f238c-bea1-4203-a495-ad795e22ff0e\" class=\"colab-df-container\">\n",
              "    <div>\n",
              "<style scoped>\n",
              "    .dataframe tbody tr th:only-of-type {\n",
              "        vertical-align: middle;\n",
              "    }\n",
              "\n",
              "    .dataframe tbody tr th {\n",
              "        vertical-align: top;\n",
              "    }\n",
              "\n",
              "    .dataframe thead th {\n",
              "        text-align: right;\n",
              "    }\n",
              "</style>\n",
              "<table border=\"1\" class=\"dataframe\">\n",
              "  <thead>\n",
              "    <tr style=\"text-align: right;\">\n",
              "      <th></th>\n",
              "      <th>date</th>\n",
              "      <th>sales</th>\n",
              "    </tr>\n",
              "  </thead>\n",
              "  <tbody>\n",
              "    <tr>\n",
              "      <th>0</th>\n",
              "      <td>2022-09-03 17:10:08.079328</td>\n",
              "      <td>55.292157</td>\n",
              "    </tr>\n",
              "    <tr>\n",
              "      <th>1</th>\n",
              "      <td>2022-09-04 17:10:08.079328</td>\n",
              "      <td>53.803211</td>\n",
              "    </tr>\n",
              "    <tr>\n",
              "      <th>2</th>\n",
              "      <td>2022-09-05 17:10:08.079328</td>\n",
              "      <td>58.141693</td>\n",
              "    </tr>\n",
              "    <tr>\n",
              "      <th>3</th>\n",
              "      <td>2022-09-06 17:10:08.079328</td>\n",
              "      <td>64.530899</td>\n",
              "    </tr>\n",
              "    <tr>\n",
              "      <th>4</th>\n",
              "      <td>2022-09-07 17:10:08.079328</td>\n",
              "      <td>66.013633</td>\n",
              "    </tr>\n",
              "  </tbody>\n",
              "</table>\n",
              "</div>\n",
              "    <div class=\"colab-df-buttons\">\n",
              "\n",
              "  <div class=\"colab-df-container\">\n",
              "    <button class=\"colab-df-convert\" onclick=\"convertToInteractive('df-bf6f238c-bea1-4203-a495-ad795e22ff0e')\"\n",
              "            title=\"Convert this dataframe to an interactive table.\"\n",
              "            style=\"display:none;\">\n",
              "\n",
              "  <svg xmlns=\"http://www.w3.org/2000/svg\" height=\"24px\" viewBox=\"0 -960 960 960\">\n",
              "    <path d=\"M120-120v-720h720v720H120Zm60-500h600v-160H180v160Zm220 220h160v-160H400v160Zm0 220h160v-160H400v160ZM180-400h160v-160H180v160Zm440 0h160v-160H620v160ZM180-180h160v-160H180v160Zm440 0h160v-160H620v160Z\"/>\n",
              "  </svg>\n",
              "    </button>\n",
              "\n",
              "  <style>\n",
              "    .colab-df-container {\n",
              "      display:flex;\n",
              "      gap: 12px;\n",
              "    }\n",
              "\n",
              "    .colab-df-convert {\n",
              "      background-color: #E8F0FE;\n",
              "      border: none;\n",
              "      border-radius: 50%;\n",
              "      cursor: pointer;\n",
              "      display: none;\n",
              "      fill: #1967D2;\n",
              "      height: 32px;\n",
              "      padding: 0 0 0 0;\n",
              "      width: 32px;\n",
              "    }\n",
              "\n",
              "    .colab-df-convert:hover {\n",
              "      background-color: #E2EBFA;\n",
              "      box-shadow: 0px 1px 2px rgba(60, 64, 67, 0.3), 0px 1px 3px 1px rgba(60, 64, 67, 0.15);\n",
              "      fill: #174EA6;\n",
              "    }\n",
              "\n",
              "    .colab-df-buttons div {\n",
              "      margin-bottom: 4px;\n",
              "    }\n",
              "\n",
              "    [theme=dark] .colab-df-convert {\n",
              "      background-color: #3B4455;\n",
              "      fill: #D2E3FC;\n",
              "    }\n",
              "\n",
              "    [theme=dark] .colab-df-convert:hover {\n",
              "      background-color: #434B5C;\n",
              "      box-shadow: 0px 1px 3px 1px rgba(0, 0, 0, 0.15);\n",
              "      filter: drop-shadow(0px 1px 2px rgba(0, 0, 0, 0.3));\n",
              "      fill: #FFFFFF;\n",
              "    }\n",
              "  </style>\n",
              "\n",
              "    <script>\n",
              "      const buttonEl =\n",
              "        document.querySelector('#df-bf6f238c-bea1-4203-a495-ad795e22ff0e button.colab-df-convert');\n",
              "      buttonEl.style.display =\n",
              "        google.colab.kernel.accessAllowed ? 'block' : 'none';\n",
              "\n",
              "      async function convertToInteractive(key) {\n",
              "        const element = document.querySelector('#df-bf6f238c-bea1-4203-a495-ad795e22ff0e');\n",
              "        const dataTable =\n",
              "          await google.colab.kernel.invokeFunction('convertToInteractive',\n",
              "                                                    [key], {});\n",
              "        if (!dataTable) return;\n",
              "\n",
              "        const docLinkHtml = 'Like what you see? Visit the ' +\n",
              "          '<a target=\"_blank\" href=https://colab.research.google.com/notebooks/data_table.ipynb>data table notebook</a>'\n",
              "          + ' to learn more about interactive tables.';\n",
              "        element.innerHTML = '';\n",
              "        dataTable['output_type'] = 'display_data';\n",
              "        await google.colab.output.renderOutput(dataTable, element);\n",
              "        const docLink = document.createElement('div');\n",
              "        docLink.innerHTML = docLinkHtml;\n",
              "        element.appendChild(docLink);\n",
              "      }\n",
              "    </script>\n",
              "  </div>\n",
              "\n",
              "\n",
              "<div id=\"df-5dfe394d-4ed4-4e28-994d-3f98550ed066\">\n",
              "  <button class=\"colab-df-quickchart\" onclick=\"quickchart('df-5dfe394d-4ed4-4e28-994d-3f98550ed066')\"\n",
              "            title=\"Suggest charts\"\n",
              "            style=\"display:none;\">\n",
              "\n",
              "<svg xmlns=\"http://www.w3.org/2000/svg\" height=\"24px\"viewBox=\"0 0 24 24\"\n",
              "     width=\"24px\">\n",
              "    <g>\n",
              "        <path d=\"M19 3H5c-1.1 0-2 .9-2 2v14c0 1.1.9 2 2 2h14c1.1 0 2-.9 2-2V5c0-1.1-.9-2-2-2zM9 17H7v-7h2v7zm4 0h-2V7h2v10zm4 0h-2v-4h2v4z\"/>\n",
              "    </g>\n",
              "</svg>\n",
              "  </button>\n",
              "\n",
              "<style>\n",
              "  .colab-df-quickchart {\n",
              "      --bg-color: #E8F0FE;\n",
              "      --fill-color: #1967D2;\n",
              "      --hover-bg-color: #E2EBFA;\n",
              "      --hover-fill-color: #174EA6;\n",
              "      --disabled-fill-color: #AAA;\n",
              "      --disabled-bg-color: #DDD;\n",
              "  }\n",
              "\n",
              "  [theme=dark] .colab-df-quickchart {\n",
              "      --bg-color: #3B4455;\n",
              "      --fill-color: #D2E3FC;\n",
              "      --hover-bg-color: #434B5C;\n",
              "      --hover-fill-color: #FFFFFF;\n",
              "      --disabled-bg-color: #3B4455;\n",
              "      --disabled-fill-color: #666;\n",
              "  }\n",
              "\n",
              "  .colab-df-quickchart {\n",
              "    background-color: var(--bg-color);\n",
              "    border: none;\n",
              "    border-radius: 50%;\n",
              "    cursor: pointer;\n",
              "    display: none;\n",
              "    fill: var(--fill-color);\n",
              "    height: 32px;\n",
              "    padding: 0;\n",
              "    width: 32px;\n",
              "  }\n",
              "\n",
              "  .colab-df-quickchart:hover {\n",
              "    background-color: var(--hover-bg-color);\n",
              "    box-shadow: 0 1px 2px rgba(60, 64, 67, 0.3), 0 1px 3px 1px rgba(60, 64, 67, 0.15);\n",
              "    fill: var(--button-hover-fill-color);\n",
              "  }\n",
              "\n",
              "  .colab-df-quickchart-complete:disabled,\n",
              "  .colab-df-quickchart-complete:disabled:hover {\n",
              "    background-color: var(--disabled-bg-color);\n",
              "    fill: var(--disabled-fill-color);\n",
              "    box-shadow: none;\n",
              "  }\n",
              "\n",
              "  .colab-df-spinner {\n",
              "    border: 2px solid var(--fill-color);\n",
              "    border-color: transparent;\n",
              "    border-bottom-color: var(--fill-color);\n",
              "    animation:\n",
              "      spin 1s steps(1) infinite;\n",
              "  }\n",
              "\n",
              "  @keyframes spin {\n",
              "    0% {\n",
              "      border-color: transparent;\n",
              "      border-bottom-color: var(--fill-color);\n",
              "      border-left-color: var(--fill-color);\n",
              "    }\n",
              "    20% {\n",
              "      border-color: transparent;\n",
              "      border-left-color: var(--fill-color);\n",
              "      border-top-color: var(--fill-color);\n",
              "    }\n",
              "    30% {\n",
              "      border-color: transparent;\n",
              "      border-left-color: var(--fill-color);\n",
              "      border-top-color: var(--fill-color);\n",
              "      border-right-color: var(--fill-color);\n",
              "    }\n",
              "    40% {\n",
              "      border-color: transparent;\n",
              "      border-right-color: var(--fill-color);\n",
              "      border-top-color: var(--fill-color);\n",
              "    }\n",
              "    60% {\n",
              "      border-color: transparent;\n",
              "      border-right-color: var(--fill-color);\n",
              "    }\n",
              "    80% {\n",
              "      border-color: transparent;\n",
              "      border-right-color: var(--fill-color);\n",
              "      border-bottom-color: var(--fill-color);\n",
              "    }\n",
              "    90% {\n",
              "      border-color: transparent;\n",
              "      border-bottom-color: var(--fill-color);\n",
              "    }\n",
              "  }\n",
              "</style>\n",
              "\n",
              "  <script>\n",
              "    async function quickchart(key) {\n",
              "      const quickchartButtonEl =\n",
              "        document.querySelector('#' + key + ' button');\n",
              "      quickchartButtonEl.disabled = true;  // To prevent multiple clicks.\n",
              "      quickchartButtonEl.classList.add('colab-df-spinner');\n",
              "      try {\n",
              "        const charts = await google.colab.kernel.invokeFunction(\n",
              "            'suggestCharts', [key], {});\n",
              "      } catch (error) {\n",
              "        console.error('Error during call to suggestCharts:', error);\n",
              "      }\n",
              "      quickchartButtonEl.classList.remove('colab-df-spinner');\n",
              "      quickchartButtonEl.classList.add('colab-df-quickchart-complete');\n",
              "    }\n",
              "    (() => {\n",
              "      let quickchartButtonEl =\n",
              "        document.querySelector('#df-5dfe394d-4ed4-4e28-994d-3f98550ed066 button');\n",
              "      quickchartButtonEl.style.display =\n",
              "        google.colab.kernel.accessAllowed ? 'block' : 'none';\n",
              "    })();\n",
              "  </script>\n",
              "</div>\n",
              "\n",
              "    </div>\n",
              "  </div>\n"
            ],
            "application/vnd.google.colaboratory.intrinsic+json": {
              "type": "dataframe",
              "variable_name": "df",
              "summary": "{\n  \"name\": \"df\",\n  \"rows\": 366,\n  \"fields\": [\n    {\n      \"column\": \"date\",\n      \"properties\": {\n        \"dtype\": \"object\",\n        \"num_unique_values\": 366,\n        \"samples\": [\n          \"2023-03-15 17:10:08.079328\",\n          \"2022-10-06 17:10:08.079328\",\n          \"2022-09-18 17:10:08.079328\"\n        ],\n        \"semantic_type\": \"\",\n        \"description\": \"\"\n      }\n    },\n    {\n      \"column\": \"sales\",\n      \"properties\": {\n        \"dtype\": \"number\",\n        \"std\": 275.0896980179655,\n        \"min\": 53.803211351129065,\n        \"max\": 1000.4827845048948,\n        \"num_unique_values\": 366,\n        \"samples\": [\n          548.824486630064,\n          129.94802155423233,\n          90.04211887253376\n        ],\n        \"semantic_type\": \"\",\n        \"description\": \"\"\n      }\n    }\n  ]\n}"
            }
          },
          "metadata": {},
          "execution_count": 6
        }
      ]
    },
    {
      "cell_type": "code",
      "source": [
        "df.shape"
      ],
      "metadata": {
        "colab": {
          "base_uri": "https://localhost:8080/"
        },
        "id": "LcGahmZQZ9QS",
        "outputId": "74088302-3f82-4a0d-c6f2-3cae759f7c19"
      },
      "execution_count": 7,
      "outputs": [
        {
          "output_type": "execute_result",
          "data": {
            "text/plain": [
              "(366, 2)"
            ]
          },
          "metadata": {},
          "execution_count": 7
        }
      ]
    },
    {
      "cell_type": "code",
      "source": [
        "df.isnull().sum()"
      ],
      "metadata": {
        "colab": {
          "base_uri": "https://localhost:8080/",
          "height": 147
        },
        "id": "lQmfABZYZ-bb",
        "outputId": "0a640677-51e0-4109-c1f4-7d4e4308a20a"
      },
      "execution_count": 8,
      "outputs": [
        {
          "output_type": "execute_result",
          "data": {
            "text/plain": [
              "date     0\n",
              "sales    0\n",
              "dtype: int64"
            ],
            "text/html": [
              "<div>\n",
              "<style scoped>\n",
              "    .dataframe tbody tr th:only-of-type {\n",
              "        vertical-align: middle;\n",
              "    }\n",
              "\n",
              "    .dataframe tbody tr th {\n",
              "        vertical-align: top;\n",
              "    }\n",
              "\n",
              "    .dataframe thead th {\n",
              "        text-align: right;\n",
              "    }\n",
              "</style>\n",
              "<table border=\"1\" class=\"dataframe\">\n",
              "  <thead>\n",
              "    <tr style=\"text-align: right;\">\n",
              "      <th></th>\n",
              "      <th>0</th>\n",
              "    </tr>\n",
              "  </thead>\n",
              "  <tbody>\n",
              "    <tr>\n",
              "      <th>date</th>\n",
              "      <td>0</td>\n",
              "    </tr>\n",
              "    <tr>\n",
              "      <th>sales</th>\n",
              "      <td>0</td>\n",
              "    </tr>\n",
              "  </tbody>\n",
              "</table>\n",
              "</div><br><label><b>dtype:</b> int64</label>"
            ]
          },
          "metadata": {},
          "execution_count": 8
        }
      ]
    },
    {
      "cell_type": "markdown",
      "source": [
        "#**Cleaning the data and EDA**\n"
      ],
      "metadata": {
        "id": "rhuqlKdvaE9M"
      }
    },
    {
      "cell_type": "code",
      "source": [
        "df.index\n",
        "# index already set as date."
      ],
      "metadata": {
        "colab": {
          "base_uri": "https://localhost:8080/"
        },
        "id": "4H-28HjmakJU",
        "outputId": "65b47340-105c-40de-d620-c48a81319508"
      },
      "execution_count": 9,
      "outputs": [
        {
          "output_type": "execute_result",
          "data": {
            "text/plain": [
              "RangeIndex(start=0, stop=366, step=1)"
            ]
          },
          "metadata": {},
          "execution_count": 9
        }
      ]
    },
    {
      "cell_type": "code",
      "source": [
        "df['date'] = pd.to_datetime(df['date'])\n",
        "df = df.set_index('date')"
      ],
      "metadata": {
        "id": "nuAdwkeCdVIe"
      },
      "execution_count": 10,
      "outputs": []
    },
    {
      "cell_type": "code",
      "source": [
        "df.head()"
      ],
      "metadata": {
        "colab": {
          "base_uri": "https://localhost:8080/",
          "height": 238
        },
        "id": "SlqvE3agdcgv",
        "outputId": "a9e98641-9325-45d3-ffb7-bd04ea172d0a"
      },
      "execution_count": 11,
      "outputs": [
        {
          "output_type": "execute_result",
          "data": {
            "text/plain": [
              "                                sales\n",
              "date                                 \n",
              "2022-09-03 17:10:08.079328  55.292157\n",
              "2022-09-04 17:10:08.079328  53.803211\n",
              "2022-09-05 17:10:08.079328  58.141693\n",
              "2022-09-06 17:10:08.079328  64.530899\n",
              "2022-09-07 17:10:08.079328  66.013633"
            ],
            "text/html": [
              "\n",
              "  <div id=\"df-78838b01-bca8-473d-9900-0d29f69c3f91\" class=\"colab-df-container\">\n",
              "    <div>\n",
              "<style scoped>\n",
              "    .dataframe tbody tr th:only-of-type {\n",
              "        vertical-align: middle;\n",
              "    }\n",
              "\n",
              "    .dataframe tbody tr th {\n",
              "        vertical-align: top;\n",
              "    }\n",
              "\n",
              "    .dataframe thead th {\n",
              "        text-align: right;\n",
              "    }\n",
              "</style>\n",
              "<table border=\"1\" class=\"dataframe\">\n",
              "  <thead>\n",
              "    <tr style=\"text-align: right;\">\n",
              "      <th></th>\n",
              "      <th>sales</th>\n",
              "    </tr>\n",
              "    <tr>\n",
              "      <th>date</th>\n",
              "      <th></th>\n",
              "    </tr>\n",
              "  </thead>\n",
              "  <tbody>\n",
              "    <tr>\n",
              "      <th>2022-09-03 17:10:08.079328</th>\n",
              "      <td>55.292157</td>\n",
              "    </tr>\n",
              "    <tr>\n",
              "      <th>2022-09-04 17:10:08.079328</th>\n",
              "      <td>53.803211</td>\n",
              "    </tr>\n",
              "    <tr>\n",
              "      <th>2022-09-05 17:10:08.079328</th>\n",
              "      <td>58.141693</td>\n",
              "    </tr>\n",
              "    <tr>\n",
              "      <th>2022-09-06 17:10:08.079328</th>\n",
              "      <td>64.530899</td>\n",
              "    </tr>\n",
              "    <tr>\n",
              "      <th>2022-09-07 17:10:08.079328</th>\n",
              "      <td>66.013633</td>\n",
              "    </tr>\n",
              "  </tbody>\n",
              "</table>\n",
              "</div>\n",
              "    <div class=\"colab-df-buttons\">\n",
              "\n",
              "  <div class=\"colab-df-container\">\n",
              "    <button class=\"colab-df-convert\" onclick=\"convertToInteractive('df-78838b01-bca8-473d-9900-0d29f69c3f91')\"\n",
              "            title=\"Convert this dataframe to an interactive table.\"\n",
              "            style=\"display:none;\">\n",
              "\n",
              "  <svg xmlns=\"http://www.w3.org/2000/svg\" height=\"24px\" viewBox=\"0 -960 960 960\">\n",
              "    <path d=\"M120-120v-720h720v720H120Zm60-500h600v-160H180v160Zm220 220h160v-160H400v160Zm0 220h160v-160H400v160ZM180-400h160v-160H180v160Zm440 0h160v-160H620v160ZM180-180h160v-160H180v160Zm440 0h160v-160H620v160Z\"/>\n",
              "  </svg>\n",
              "    </button>\n",
              "\n",
              "  <style>\n",
              "    .colab-df-container {\n",
              "      display:flex;\n",
              "      gap: 12px;\n",
              "    }\n",
              "\n",
              "    .colab-df-convert {\n",
              "      background-color: #E8F0FE;\n",
              "      border: none;\n",
              "      border-radius: 50%;\n",
              "      cursor: pointer;\n",
              "      display: none;\n",
              "      fill: #1967D2;\n",
              "      height: 32px;\n",
              "      padding: 0 0 0 0;\n",
              "      width: 32px;\n",
              "    }\n",
              "\n",
              "    .colab-df-convert:hover {\n",
              "      background-color: #E2EBFA;\n",
              "      box-shadow: 0px 1px 2px rgba(60, 64, 67, 0.3), 0px 1px 3px 1px rgba(60, 64, 67, 0.15);\n",
              "      fill: #174EA6;\n",
              "    }\n",
              "\n",
              "    .colab-df-buttons div {\n",
              "      margin-bottom: 4px;\n",
              "    }\n",
              "\n",
              "    [theme=dark] .colab-df-convert {\n",
              "      background-color: #3B4455;\n",
              "      fill: #D2E3FC;\n",
              "    }\n",
              "\n",
              "    [theme=dark] .colab-df-convert:hover {\n",
              "      background-color: #434B5C;\n",
              "      box-shadow: 0px 1px 3px 1px rgba(0, 0, 0, 0.15);\n",
              "      filter: drop-shadow(0px 1px 2px rgba(0, 0, 0, 0.3));\n",
              "      fill: #FFFFFF;\n",
              "    }\n",
              "  </style>\n",
              "\n",
              "    <script>\n",
              "      const buttonEl =\n",
              "        document.querySelector('#df-78838b01-bca8-473d-9900-0d29f69c3f91 button.colab-df-convert');\n",
              "      buttonEl.style.display =\n",
              "        google.colab.kernel.accessAllowed ? 'block' : 'none';\n",
              "\n",
              "      async function convertToInteractive(key) {\n",
              "        const element = document.querySelector('#df-78838b01-bca8-473d-9900-0d29f69c3f91');\n",
              "        const dataTable =\n",
              "          await google.colab.kernel.invokeFunction('convertToInteractive',\n",
              "                                                    [key], {});\n",
              "        if (!dataTable) return;\n",
              "\n",
              "        const docLinkHtml = 'Like what you see? Visit the ' +\n",
              "          '<a target=\"_blank\" href=https://colab.research.google.com/notebooks/data_table.ipynb>data table notebook</a>'\n",
              "          + ' to learn more about interactive tables.';\n",
              "        element.innerHTML = '';\n",
              "        dataTable['output_type'] = 'display_data';\n",
              "        await google.colab.output.renderOutput(dataTable, element);\n",
              "        const docLink = document.createElement('div');\n",
              "        docLink.innerHTML = docLinkHtml;\n",
              "        element.appendChild(docLink);\n",
              "      }\n",
              "    </script>\n",
              "  </div>\n",
              "\n",
              "\n",
              "<div id=\"df-4cdcbf9b-304b-4a13-b8bf-0785c10b07dd\">\n",
              "  <button class=\"colab-df-quickchart\" onclick=\"quickchart('df-4cdcbf9b-304b-4a13-b8bf-0785c10b07dd')\"\n",
              "            title=\"Suggest charts\"\n",
              "            style=\"display:none;\">\n",
              "\n",
              "<svg xmlns=\"http://www.w3.org/2000/svg\" height=\"24px\"viewBox=\"0 0 24 24\"\n",
              "     width=\"24px\">\n",
              "    <g>\n",
              "        <path d=\"M19 3H5c-1.1 0-2 .9-2 2v14c0 1.1.9 2 2 2h14c1.1 0 2-.9 2-2V5c0-1.1-.9-2-2-2zM9 17H7v-7h2v7zm4 0h-2V7h2v10zm4 0h-2v-4h2v4z\"/>\n",
              "    </g>\n",
              "</svg>\n",
              "  </button>\n",
              "\n",
              "<style>\n",
              "  .colab-df-quickchart {\n",
              "      --bg-color: #E8F0FE;\n",
              "      --fill-color: #1967D2;\n",
              "      --hover-bg-color: #E2EBFA;\n",
              "      --hover-fill-color: #174EA6;\n",
              "      --disabled-fill-color: #AAA;\n",
              "      --disabled-bg-color: #DDD;\n",
              "  }\n",
              "\n",
              "  [theme=dark] .colab-df-quickchart {\n",
              "      --bg-color: #3B4455;\n",
              "      --fill-color: #D2E3FC;\n",
              "      --hover-bg-color: #434B5C;\n",
              "      --hover-fill-color: #FFFFFF;\n",
              "      --disabled-bg-color: #3B4455;\n",
              "      --disabled-fill-color: #666;\n",
              "  }\n",
              "\n",
              "  .colab-df-quickchart {\n",
              "    background-color: var(--bg-color);\n",
              "    border: none;\n",
              "    border-radius: 50%;\n",
              "    cursor: pointer;\n",
              "    display: none;\n",
              "    fill: var(--fill-color);\n",
              "    height: 32px;\n",
              "    padding: 0;\n",
              "    width: 32px;\n",
              "  }\n",
              "\n",
              "  .colab-df-quickchart:hover {\n",
              "    background-color: var(--hover-bg-color);\n",
              "    box-shadow: 0 1px 2px rgba(60, 64, 67, 0.3), 0 1px 3px 1px rgba(60, 64, 67, 0.15);\n",
              "    fill: var(--button-hover-fill-color);\n",
              "  }\n",
              "\n",
              "  .colab-df-quickchart-complete:disabled,\n",
              "  .colab-df-quickchart-complete:disabled:hover {\n",
              "    background-color: var(--disabled-bg-color);\n",
              "    fill: var(--disabled-fill-color);\n",
              "    box-shadow: none;\n",
              "  }\n",
              "\n",
              "  .colab-df-spinner {\n",
              "    border: 2px solid var(--fill-color);\n",
              "    border-color: transparent;\n",
              "    border-bottom-color: var(--fill-color);\n",
              "    animation:\n",
              "      spin 1s steps(1) infinite;\n",
              "  }\n",
              "\n",
              "  @keyframes spin {\n",
              "    0% {\n",
              "      border-color: transparent;\n",
              "      border-bottom-color: var(--fill-color);\n",
              "      border-left-color: var(--fill-color);\n",
              "    }\n",
              "    20% {\n",
              "      border-color: transparent;\n",
              "      border-left-color: var(--fill-color);\n",
              "      border-top-color: var(--fill-color);\n",
              "    }\n",
              "    30% {\n",
              "      border-color: transparent;\n",
              "      border-left-color: var(--fill-color);\n",
              "      border-top-color: var(--fill-color);\n",
              "      border-right-color: var(--fill-color);\n",
              "    }\n",
              "    40% {\n",
              "      border-color: transparent;\n",
              "      border-right-color: var(--fill-color);\n",
              "      border-top-color: var(--fill-color);\n",
              "    }\n",
              "    60% {\n",
              "      border-color: transparent;\n",
              "      border-right-color: var(--fill-color);\n",
              "    }\n",
              "    80% {\n",
              "      border-color: transparent;\n",
              "      border-right-color: var(--fill-color);\n",
              "      border-bottom-color: var(--fill-color);\n",
              "    }\n",
              "    90% {\n",
              "      border-color: transparent;\n",
              "      border-bottom-color: var(--fill-color);\n",
              "    }\n",
              "  }\n",
              "</style>\n",
              "\n",
              "  <script>\n",
              "    async function quickchart(key) {\n",
              "      const quickchartButtonEl =\n",
              "        document.querySelector('#' + key + ' button');\n",
              "      quickchartButtonEl.disabled = true;  // To prevent multiple clicks.\n",
              "      quickchartButtonEl.classList.add('colab-df-spinner');\n",
              "      try {\n",
              "        const charts = await google.colab.kernel.invokeFunction(\n",
              "            'suggestCharts', [key], {});\n",
              "      } catch (error) {\n",
              "        console.error('Error during call to suggestCharts:', error);\n",
              "      }\n",
              "      quickchartButtonEl.classList.remove('colab-df-spinner');\n",
              "      quickchartButtonEl.classList.add('colab-df-quickchart-complete');\n",
              "    }\n",
              "    (() => {\n",
              "      let quickchartButtonEl =\n",
              "        document.querySelector('#df-4cdcbf9b-304b-4a13-b8bf-0785c10b07dd button');\n",
              "      quickchartButtonEl.style.display =\n",
              "        google.colab.kernel.accessAllowed ? 'block' : 'none';\n",
              "    })();\n",
              "  </script>\n",
              "</div>\n",
              "\n",
              "    </div>\n",
              "  </div>\n"
            ],
            "application/vnd.google.colaboratory.intrinsic+json": {
              "type": "dataframe",
              "variable_name": "df",
              "summary": "{\n  \"name\": \"df\",\n  \"rows\": 366,\n  \"fields\": [\n    {\n      \"column\": \"date\",\n      \"properties\": {\n        \"dtype\": \"date\",\n        \"min\": \"2022-09-03 17:10:08.079328\",\n        \"max\": \"2023-09-03 17:10:08.079328\",\n        \"num_unique_values\": 366,\n        \"samples\": [\n          \"2023-03-15 17:10:08.079328\",\n          \"2022-10-06 17:10:08.079328\",\n          \"2022-09-18 17:10:08.079328\"\n        ],\n        \"semantic_type\": \"\",\n        \"description\": \"\"\n      }\n    },\n    {\n      \"column\": \"sales\",\n      \"properties\": {\n        \"dtype\": \"number\",\n        \"std\": 275.0896980179655,\n        \"min\": 53.803211351129065,\n        \"max\": 1000.4827845048948,\n        \"num_unique_values\": 366,\n        \"samples\": [\n          548.824486630064,\n          129.94802155423233,\n          90.04211887253376\n        ],\n        \"semantic_type\": \"\",\n        \"description\": \"\"\n      }\n    }\n  ]\n}"
            }
          },
          "metadata": {},
          "execution_count": 11
        }
      ]
    },
    {
      "cell_type": "markdown",
      "source": [
        "#**Step 2: Construct and analyze the time series**\n",
        "\n",
        "Construct the valid data structure for the time serie, graph it, and then analyze it and answer the following questions:\n",
        "\n",
        "Which is the tensor of the time serie?\n",
        "Which is the trend?\n",
        "Is it stationary?\n",
        "Is there variability or noise?\n",
        "\n",
        "Note: A tensor in a time serie is the minimum unit of time for which there is data. It can be every second, minute, hour, day, week, month..."
      ],
      "metadata": {
        "id": "aQETTQ3oAudA"
      }
    },
    {
      "cell_type": "code",
      "source": [
        "ts = df.sales"
      ],
      "metadata": {
        "id": "RIGm-5-dA1Ur"
      },
      "execution_count": 12,
      "outputs": []
    },
    {
      "cell_type": "code",
      "source": [
        "fig, ax = plt.subplots(nrows=1, ncols=1, figsize=(15,5), sharex=True)\n",
        "fig.suptitle('Sales Time Series', fontsize=24)\n",
        "sns.lineplot(x=df.index, y=df.sales.fillna(method='ffill'), color = 'red')\n",
        "ax.set_title('sales')\n",
        "ax.set_xlabel('Date')\n",
        "ax.set_ylabel('Sales')\n",
        "#plt.xticks([])\n",
        "plt.tight_layout()\n",
        "\n",
        "plt.show()"
      ],
      "metadata": {
        "colab": {
          "base_uri": "https://localhost:8080/",
          "height": 290
        },
        "id": "amdiU1_lbhKz",
        "outputId": "57d27008-e3eb-4ff6-b746-8c0484334d1d"
      },
      "execution_count": 13,
      "outputs": [
        {
          "output_type": "display_data",
          "data": {
            "text/plain": [
              "<Figure size 1500x500 with 1 Axes>"
            ],
            "image/png": "[encoded data removed]"
          },
          "metadata": {}
        }
      ]
    },
    {
      "cell_type": "code",
      "source": [
        "decomposition = seasonal_decompose(ts, period = 12)\n",
        "decomposition"
      ],
      "metadata": {
        "colab": {
          "base_uri": "https://localhost:8080/"
        },
        "id": "_GgPYIHwlmyj",
        "outputId": "3f1ed8fd-85ee-4ca2-e8c9-d11a11a34be8"
      },
      "execution_count": 14,
      "outputs": [
        {
          "output_type": "execute_result",
          "data": {
            "text/plain": [
              "<statsmodels.tsa.seasonal.DecomposeResult at 0x7d8804236890>"
            ]
          },
          "metadata": {},
          "execution_count": 14
        }
      ]
    },
    {
      "cell_type": "code",
      "source": [
        "trend = decomposition.trend\n",
        "\n",
        "fig, axis = plt.subplots(figsize = (10, 5))\n",
        "\n",
        "sns.lineplot(data = ts)\n",
        "sns.lineplot(data = trend)\n",
        "\n",
        "plt.tight_layout()\n",
        "\n",
        "plt.show()"
      ],
      "metadata": {
        "colab": {
          "base_uri": "https://localhost:8080/",
          "height": 423
        },
        "id": "sb9YlObzlYLh",
        "outputId": "032d90a5-534f-4d51-a04c-7f0143555903"
      },
      "execution_count": 15,
      "outputs": [
        {
          "output_type": "display_data",
          "data": {
            "text/plain": [
              "<Figure size 1000x500 with 1 Axes>"
            ],
            "image/png": "[encoded data removed]"
          },
          "metadata": {}
        }
      ]
    },
    {
      "cell_type": "code",
      "source": [
        "df = df.sort_index()"
      ],
      "metadata": {
        "id": "sAOU4v7efcRK"
      },
      "execution_count": 16,
      "outputs": []
    },
    {
      "cell_type": "code",
      "source": [
        "df.head()"
      ],
      "metadata": {
        "colab": {
          "base_uri": "https://localhost:8080/",
          "height": 238
        },
        "id": "xRCpiwdGgwmA",
        "outputId": "59992e25-6a0f-46d1-eeb4-2e388754f5f2"
      },
      "execution_count": 17,
      "outputs": [
        {
          "output_type": "execute_result",
          "data": {
            "text/plain": [
              "                                sales\n",
              "date                                 \n",
              "2022-09-03 17:10:08.079328  55.292157\n",
              "2022-09-04 17:10:08.079328  53.803211\n",
              "2022-09-05 17:10:08.079328  58.141693\n",
              "2022-09-06 17:10:08.079328  64.530899\n",
              "2022-09-07 17:10:08.079328  66.013633"
            ],
            "text/html": [
              "\n",
              "  <div id=\"df-1daac192-da11-469e-a9be-4b8e21fd29ca\" class=\"colab-df-container\">\n",
              "    <div>\n",
              "<style scoped>\n",
              "    .dataframe tbody tr th:only-of-type {\n",
              "        vertical-align: middle;\n",
              "    }\n",
              "\n",
              "    .dataframe tbody tr th {\n",
              "        vertical-align: top;\n",
              "    }\n",
              "\n",
              "    .dataframe thead th {\n",
              "        text-align: right;\n",
              "    }\n",
              "</style>\n",
              "<table border=\"1\" class=\"dataframe\">\n",
              "  <thead>\n",
              "    <tr style=\"text-align: right;\">\n",
              "      <th></th>\n",
              "      <th>sales</th>\n",
              "    </tr>\n",
              "    <tr>\n",
              "      <th>date</th>\n",
              "      <th></th>\n",
              "    </tr>\n",
              "  </thead>\n",
              "  <tbody>\n",
              "    <tr>\n",
              "      <th>2022-09-03 17:10:08.079328</th>\n",
              "      <td>55.292157</td>\n",
              "    </tr>\n",
              "    <tr>\n",
              "      <th>2022-09-04 17:10:08.079328</th>\n",
              "      <td>53.803211</td>\n",
              "    </tr>\n",
              "    <tr>\n",
              "      <th>2022-09-05 17:10:08.079328</th>\n",
              "      <td>58.141693</td>\n",
              "    </tr>\n",
              "    <tr>\n",
              "      <th>2022-09-06 17:10:08.079328</th>\n",
              "      <td>64.530899</td>\n",
              "    </tr>\n",
              "    <tr>\n",
              "      <th>2022-09-07 17:10:08.079328</th>\n",
              "      <td>66.013633</td>\n",
              "    </tr>\n",
              "  </tbody>\n",
              "</table>\n",
              "</div>\n",
              "    <div class=\"colab-df-buttons\">\n",
              "\n",
              "  <div class=\"colab-df-container\">\n",
              "    <button class=\"colab-df-convert\" onclick=\"convertToInteractive('df-1daac192-da11-469e-a9be-4b8e21fd29ca')\"\n",
              "            title=\"Convert this dataframe to an interactive table.\"\n",
              "            style=\"display:none;\">\n",
              "\n",
              "  <svg xmlns=\"http://www.w3.org/2000/svg\" height=\"24px\" viewBox=\"0 -960 960 960\">\n",
              "    <path d=\"M120-120v-720h720v720H120Zm60-500h600v-160H180v160Zm220 220h160v-160H400v160Zm0 220h160v-160H400v160ZM180-400h160v-160H180v160Zm440 0h160v-160H620v160ZM180-180h160v-160H180v160Zm440 0h160v-160H620v160Z\"/>\n",
              "  </svg>\n",
              "    </button>\n",
              "\n",
              "  <style>\n",
              "    .colab-df-container {\n",
              "      display:flex;\n",
              "      gap: 12px;\n",
              "    }\n",
              "\n",
              "    .colab-df-convert {\n",
              "      background-color: #E8F0FE;\n",
              "      border: none;\n",
              "      border-radius: 50%;\n",
              "      cursor: pointer;\n",
              "      display: none;\n",
              "      fill: #1967D2;\n",
              "      height: 32px;\n",
              "      padding: 0 0 0 0;\n",
              "      width: 32px;\n",
              "    }\n",
              "\n",
              "    .colab-df-convert:hover {\n",
              "      background-color: #E2EBFA;\n",
              "      box-shadow: 0px 1px 2px rgba(60, 64, 67, 0.3), 0px 1px 3px 1px rgba(60, 64, 67, 0.15);\n",
              "      fill: #174EA6;\n",
              "    }\n",
              "\n",
              "    .colab-df-buttons div {\n",
              "      margin-bottom: 4px;\n",
              "    }\n",
              "\n",
              "    [theme=dark] .colab-df-convert {\n",
              "      background-color: #3B4455;\n",
              "      fill: #D2E3FC;\n",
              "    }\n",
              "\n",
              "    [theme=dark] .colab-df-convert:hover {\n",
              "      background-color: #434B5C;\n",
              "      box-shadow: 0px 1px 3px 1px rgba(0, 0, 0, 0.15);\n",
              "      filter: drop-shadow(0px 1px 2px rgba(0, 0, 0, 0.3));\n",
              "      fill: #FFFFFF;\n",
              "    }\n",
              "  </style>\n",
              "\n",
              "    <script>\n",
              "      const buttonEl =\n",
              "        document.querySelector('#df-1daac192-da11-469e-a9be-4b8e21fd29ca button.colab-df-convert');\n",
              "      buttonEl.style.display =\n",
              "        google.colab.kernel.accessAllowed ? 'block' : 'none';\n",
              "\n",
              "      async function convertToInteractive(key) {\n",
              "        const element = document.querySelector('#df-1daac192-da11-469e-a9be-4b8e21fd29ca');\n",
              "        const dataTable =\n",
              "          await google.colab.kernel.invokeFunction('convertToInteractive',\n",
              "                                                    [key], {});\n",
              "        if (!dataTable) return;\n",
              "\n",
              "        const docLinkHtml = 'Like what you see? Visit the ' +\n",
              "          '<a target=\"_blank\" href=https://colab.research.google.com/notebooks/data_table.ipynb>data table notebook</a>'\n",
              "          + ' to learn more about interactive tables.';\n",
              "        element.innerHTML = '';\n",
              "        dataTable['output_type'] = 'display_data';\n",
              "        await google.colab.output.renderOutput(dataTable, element);\n",
              "        const docLink = document.createElement('div');\n",
              "        docLink.innerHTML = docLinkHtml;\n",
              "        element.appendChild(docLink);\n",
              "      }\n",
              "    </script>\n",
              "  </div>\n",
              "\n",
              "\n",
              "<div id=\"df-ef763e93-6c90-4964-9c08-d143f45977fb\">\n",
              "  <button class=\"colab-df-quickchart\" onclick=\"quickchart('df-ef763e93-6c90-4964-9c08-d143f45977fb')\"\n",
              "            title=\"Suggest charts\"\n",
              "            style=\"display:none;\">\n",
              "\n",
              "<svg xmlns=\"http://www.w3.org/2000/svg\" height=\"24px\"viewBox=\"0 0 24 24\"\n",
              "     width=\"24px\">\n",
              "    <g>\n",
              "        <path d=\"M19 3H5c-1.1 0-2 .9-2 2v14c0 1.1.9 2 2 2h14c1.1 0 2-.9 2-2V5c0-1.1-.9-2-2-2zM9 17H7v-7h2v7zm4 0h-2V7h2v10zm4 0h-2v-4h2v4z\"/>\n",
              "    </g>\n",
              "</svg>\n",
              "  </button>\n",
              "\n",
              "<style>\n",
              "  .colab-df-quickchart {\n",
              "      --bg-color: #E8F0FE;\n",
              "      --fill-color: #1967D2;\n",
              "      --hover-bg-color: #E2EBFA;\n",
              "      --hover-fill-color: #174EA6;\n",
              "      --disabled-fill-color: #AAA;\n",
              "      --disabled-bg-color: #DDD;\n",
              "  }\n",
              "\n",
              "  [theme=dark] .colab-df-quickchart {\n",
              "      --bg-color: #3B4455;\n",
              "      --fill-color: #D2E3FC;\n",
              "      --hover-bg-color: #434B5C;\n",
              "      --hover-fill-color: #FFFFFF;\n",
              "      --disabled-bg-color: #3B4455;\n",
              "      --disabled-fill-color: #666;\n",
              "  }\n",
              "\n",
              "  .colab-df-quickchart {\n",
              "    background-color: var(--bg-color);\n",
              "    border: none;\n",
              "    border-radius: 50%;\n",
              "    cursor: pointer;\n",
              "    display: none;\n",
              "    fill: var(--fill-color);\n",
              "    height: 32px;\n",
              "    padding: 0;\n",
              "    width: 32px;\n",
              "  }\n",
              "\n",
              "  .colab-df-quickchart:hover {\n",
              "    background-color: var(--hover-bg-color);\n",
              "    box-shadow: 0 1px 2px rgba(60, 64, 67, 0.3), 0 1px 3px 1px rgba(60, 64, 67, 0.15);\n",
              "    fill: var(--button-hover-fill-color);\n",
              "  }\n",
              "\n",
              "  .colab-df-quickchart-complete:disabled,\n",
              "  .colab-df-quickchart-complete:disabled:hover {\n",
              "    background-color: var(--disabled-bg-color);\n",
              "    fill: var(--disabled-fill-color);\n",
              "    box-shadow: none;\n",
              "  }\n",
              "\n",
              "  .colab-df-spinner {\n",
              "    border: 2px solid var(--fill-color);\n",
              "    border-color: transparent;\n",
              "    border-bottom-color: var(--fill-color);\n",
              "    animation:\n",
              "      spin 1s steps(1) infinite;\n",
              "  }\n",
              "\n",
              "  @keyframes spin {\n",
              "    0% {\n",
              "      border-color: transparent;\n",
              "      border-bottom-color: var(--fill-color);\n",
              "      border-left-color: var(--fill-color);\n",
              "    }\n",
              "    20% {\n",
              "      border-color: transparent;\n",
              "      border-left-color: var(--fill-color);\n",
              "      border-top-color: var(--fill-color);\n",
              "    }\n",
              "    30% {\n",
              "      border-color: transparent;\n",
              "      border-left-color: var(--fill-color);\n",
              "      border-top-color: var(--fill-color);\n",
              "      border-right-color: var(--fill-color);\n",
              "    }\n",
              "    40% {\n",
              "      border-color: transparent;\n",
              "      border-right-color: var(--fill-color);\n",
              "      border-top-color: var(--fill-color);\n",
              "    }\n",
              "    60% {\n",
              "      border-color: transparent;\n",
              "      border-right-color: var(--fill-color);\n",
              "    }\n",
              "    80% {\n",
              "      border-color: transparent;\n",
              "      border-right-color: var(--fill-color);\n",
              "      border-bottom-color: var(--fill-color);\n",
              "    }\n",
              "    90% {\n",
              "      border-color: transparent;\n",
              "      border-bottom-color: var(--fill-color);\n",
              "    }\n",
              "  }\n",
              "</style>\n",
              "\n",
              "  <script>\n",
              "    async function quickchart(key) {\n",
              "      const quickchartButtonEl =\n",
              "        document.querySelector('#' + key + ' button');\n",
              "      quickchartButtonEl.disabled = true;  // To prevent multiple clicks.\n",
              "      quickchartButtonEl.classList.add('colab-df-spinner');\n",
              "      try {\n",
              "        const charts = await google.colab.kernel.invokeFunction(\n",
              "            'suggestCharts', [key], {});\n",
              "      } catch (error) {\n",
              "        console.error('Error during call to suggestCharts:', error);\n",
              "      }\n",
              "      quickchartButtonEl.classList.remove('colab-df-spinner');\n",
              "      quickchartButtonEl.classList.add('colab-df-quickchart-complete');\n",
              "    }\n",
              "    (() => {\n",
              "      let quickchartButtonEl =\n",
              "        document.querySelector('#df-ef763e93-6c90-4964-9c08-d143f45977fb button');\n",
              "      quickchartButtonEl.style.display =\n",
              "        google.colab.kernel.accessAllowed ? 'block' : 'none';\n",
              "    })();\n",
              "  </script>\n",
              "</div>\n",
              "\n",
              "    </div>\n",
              "  </div>\n"
            ],
            "application/vnd.google.colaboratory.intrinsic+json": {
              "type": "dataframe",
              "variable_name": "df",
              "summary": "{\n  \"name\": \"df\",\n  \"rows\": 366,\n  \"fields\": [\n    {\n      \"column\": \"date\",\n      \"properties\": {\n        \"dtype\": \"date\",\n        \"min\": \"2022-09-03 17:10:08.079328\",\n        \"max\": \"2023-09-03 17:10:08.079328\",\n        \"num_unique_values\": 366,\n        \"samples\": [\n          \"2023-03-15 17:10:08.079328\",\n          \"2022-10-06 17:10:08.079328\",\n          \"2022-09-18 17:10:08.079328\"\n        ],\n        \"semantic_type\": \"\",\n        \"description\": \"\"\n      }\n    },\n    {\n      \"column\": \"sales\",\n      \"properties\": {\n        \"dtype\": \"number\",\n        \"std\": 275.0896980179655,\n        \"min\": 53.803211351129065,\n        \"max\": 1000.4827845048948,\n        \"num_unique_values\": 366,\n        \"samples\": [\n          548.824486630064,\n          129.94802155423233,\n          90.04211887253376\n        ],\n        \"semantic_type\": \"\",\n        \"description\": \"\"\n      }\n    }\n  ]\n}"
            }
          },
          "metadata": {},
          "execution_count": 17
        }
      ]
    },
    {
      "cell_type": "code",
      "source": [
        "df.index.inferred_freq"
      ],
      "metadata": {
        "colab": {
          "base_uri": "https://localhost:8080/",
          "height": 35
        },
        "id": "HauPeubygy1O",
        "outputId": "8a9030a5-b79f-4394-fb9c-dfaed148b0f6"
      },
      "execution_count": 18,
      "outputs": [
        {
          "output_type": "execute_result",
          "data": {
            "text/plain": [
              "'D'"
            ],
            "application/vnd.google.colaboratory.intrinsic+json": {
              "type": "string"
            }
          },
          "metadata": {},
          "execution_count": 18
        }
      ]
    },
    {
      "cell_type": "code",
      "source": [
        "time_span = df.index.max() - df.index.min()\n",
        "time_span"
      ],
      "metadata": {
        "colab": {
          "base_uri": "https://localhost:8080/"
        },
        "id": "Jaf0aNVfg4Ht",
        "outputId": "5de31104-91f0-4766-b048-293224f1254a"
      },
      "execution_count": 19,
      "outputs": [
        {
          "output_type": "execute_result",
          "data": {
            "text/plain": [
              "Timedelta('365 days 00:00:00')"
            ]
          },
          "metadata": {},
          "execution_count": 19
        }
      ]
    },
    {
      "cell_type": "code",
      "source": [
        "len(df)"
      ],
      "metadata": {
        "colab": {
          "base_uri": "https://localhost:8080/"
        },
        "id": "oGyPN8Zjg7wr",
        "outputId": "4463076e-372a-451c-b1e6-fab19e686cfa"
      },
      "execution_count": 20,
      "outputs": [
        {
          "output_type": "execute_result",
          "data": {
            "text/plain": [
              "366"
            ]
          },
          "metadata": {},
          "execution_count": 20
        }
      ]
    },
    {
      "cell_type": "markdown",
      "source": [
        "Given the intervals are one less than the number of elements in the df, there are no gaps in the time series"
      ],
      "metadata": {
        "id": "XFRPNTcZtXbW"
      }
    },
    {
      "cell_type": "code",
      "source": [
        "msno.matrix(df, color=(0.2,0.5,0.5))"
      ],
      "metadata": {
        "colab": {
          "base_uri": "https://localhost:8080/",
          "height": 385
        },
        "id": "PO4T6Z98g9v2",
        "outputId": "6d218d54-6196-4cba-cddf-3338c34d7e16"
      },
      "execution_count": 21,
      "outputs": [
        {
          "output_type": "execute_result",
          "data": {
            "text/plain": [
              "<Axes: >"
            ]
          },
          "metadata": {},
          "execution_count": 21
        },
        {
          "output_type": "display_data",
          "data": {
            "text/plain": [
              "<Figure size 2500x1000 with 2 Axes>"
            ],
            "image/png": "[encoded data removed]"
          },
          "metadata": {}
        }
      ]
    },
    {
      "cell_type": "code",
      "source": [
        "model = SimpleExpSmoothing(ts).fit(smoothing_level=0.5)  # Adjust smoothing_level as needed\n"
      ],
      "metadata": {
        "id": "zUNLeIHwhGES"
      },
      "execution_count": 22,
      "outputs": []
    },
    {
      "cell_type": "code",
      "source": [
        "dampened_data = model.fittedvalues"
      ],
      "metadata": {
        "id": "zWA65S4dh1fE"
      },
      "execution_count": 23,
      "outputs": []
    },
    {
      "cell_type": "code",
      "source": [
        "dampened_data.plot(figsize=(12, 6))"
      ],
      "metadata": {
        "colab": {
          "base_uri": "https://localhost:8080/",
          "height": 445
        },
        "id": "9OnajNjch8ZV",
        "outputId": "e10c4ef1-75a3-4f73-9253-c52e3634760b"
      },
      "execution_count": 24,
      "outputs": [
        {
          "output_type": "execute_result",
          "data": {
            "text/plain": [
              "<Axes: xlabel='date'>"
            ]
          },
          "metadata": {},
          "execution_count": 24
        },
        {
          "output_type": "display_data",
          "data": {
            "text/plain": [
              "<Figure size 1200x600 with 1 Axes>"
            ],
            "image/png": "[encoded data removed]"
          },
          "metadata": {}
        }
      ]
    },
    {
      "cell_type": "markdown",
      "source": [
        "#**Test for Stationality**"
      ],
      "metadata": {
        "id": "g95bCFYJiJvO"
      }
    },
    {
      "cell_type": "code",
      "source": [
        "result = adfuller(df['sales'].values)\n",
        "print('ADF Statistic:', result[0])\n",
        "print('p-value:', result[1])"
      ],
      "metadata": {
        "colab": {
          "base_uri": "https://localhost:8080/"
        },
        "id": "Oq1KWItBiGs_",
        "outputId": "4f613c8f-3220-447c-e73f-de7a529bedf0"
      },
      "execution_count": 25,
      "outputs": [
        {
          "output_type": "stream",
          "name": "stdout",
          "text": [
            "ADF Statistic: 0.545414193706378\n",
            "p-value: 0.9861899815311064\n"
          ]
        }
      ]
    },
    {
      "cell_type": "markdown",
      "source": [
        "p-value is greater than 0.05, which means our null hypothesis cannot be rejected and the series is non stationary"
      ],
      "metadata": {
        "id": "pu2BZlXgl9a0"
      }
    },
    {
      "cell_type": "code",
      "source": [
        "\n",
        "residual = decomposition.resid\n",
        "\n",
        "fig, axis = plt.subplots(figsize = (10, 5))\n",
        "\n",
        "sns.lineplot(data = ts)\n",
        "sns.lineplot(data = residual)\n",
        "\n",
        "plt.tight_layout()\n",
        "\n",
        "plt.show()\n"
      ],
      "metadata": {
        "colab": {
          "base_uri": "https://localhost:8080/",
          "height": 423
        },
        "id": "T-SRFaFLiqCK",
        "outputId": "55e173c4-65dd-41e7-8cef-ce4575376a84"
      },
      "execution_count": 26,
      "outputs": [
        {
          "output_type": "display_data",
          "data": {
            "text/plain": [
              "<Figure size 1000x500 with 1 Axes>"
            ],
            "image/png": "[encoded data removed]"
          },
          "metadata": {}
        }
      ]
    },
    {
      "cell_type": "code",
      "source": [
        "autocorrelation_plot(df['sales'])"
      ],
      "metadata": {
        "colab": {
          "base_uri": "https://localhost:8080/",
          "height": 472
        },
        "id": "Dkig0XS9mOAY",
        "outputId": "dd30260d-cb24-4bdf-afcf-804eb7cacae2"
      },
      "execution_count": 27,
      "outputs": [
        {
          "output_type": "execute_result",
          "data": {
            "text/plain": [
              "<Axes: xlabel='Lag', ylabel='Autocorrelation'>"
            ]
          },
          "metadata": {},
          "execution_count": 27
        },
        {
          "output_type": "display_data",
          "data": {
            "text/plain": [
              "<Figure size 640x480 with 1 Axes>"
            ],
            "image/png": "[encoded data removed]"
          },
          "metadata": {}
        }
      ]
    },
    {
      "cell_type": "code",
      "source": [
        "fix, ax = plt.subplots(nrows = 2, ncols = 1, figsize = (15, 10))\n",
        "\n",
        "plot_acf(ts, lags = 100, ax = ax[0])\n",
        "plot_pacf(ts, lags = 100, ax = ax[1])\n",
        "plt.tight_layout()\n",
        "\n",
        "plt.show()"
      ],
      "metadata": {
        "colab": {
          "base_uri": "https://localhost:8080/",
          "height": 562
        },
        "id": "vGkOyUE8mFDh",
        "outputId": "655d41da-369a-4c38-c6bc-9d918a42f9e6"
      },
      "execution_count": 28,
      "outputs": [
        {
          "output_type": "display_data",
          "data": {
            "text/plain": [
              "<Figure size 1500x1000 with 2 Axes>"
            ],
            "image/png": "[encoded data removed]"
          },
          "metadata": {}
        }
      ]
    },
    {
      "cell_type": "code",
      "source": [
        "ts_stationary = ts.diff().dropna()"
      ],
      "metadata": {
        "id": "rEcFAUnBmo2U"
      },
      "execution_count": 29,
      "outputs": []
    },
    {
      "cell_type": "code",
      "source": [
        "result2 = adfuller(ts_stationary)\n",
        "print('ADF Statistic:', result2[0])\n",
        "print('p-value:', result2[1])"
      ],
      "metadata": {
        "colab": {
          "base_uri": "https://localhost:8080/"
        },
        "id": "bloagN-UnJZJ",
        "outputId": "fd768a9d-45b9-4611-d7bb-b67f4b8ba8da"
      },
      "execution_count": 30,
      "outputs": [
        {
          "output_type": "stream",
          "name": "stdout",
          "text": [
            "ADF Statistic: -9.430263118334729\n",
            "p-value: 5.212954111417404e-16\n"
          ]
        }
      ]
    },
    {
      "cell_type": "markdown",
      "source": [
        "Series is now stationary, so we can apply auto ARIMA method:"
      ],
      "metadata": {
        "id": "rdbft5zdngJk"
      }
    },
    {
      "cell_type": "code",
      "source": [
        "model = auto_arima(ts,seasonal = False, trace=True, with_trend = True, m = 12)\n"
      ],
      "metadata": {
        "colab": {
          "base_uri": "https://localhost:8080/"
        },
        "id": "8XZsSyrFnfOe",
        "outputId": "0eac94b5-34cf-4d8e-fd53-39c28cc9fad5"
      },
      "execution_count": 39,
      "outputs": [
        {
          "output_type": "stream",
          "name": "stdout",
          "text": [
            "Performing stepwise search to minimize aic\n",
            " ARIMA(2,1,2)(0,0,0)[0] intercept   : AIC=1843.184, Time=1.72 sec\n",
            " ARIMA(0,1,0)(0,0,0)[0] intercept   : AIC=2096.542, Time=0.02 sec\n",
            " ARIMA(1,1,0)(0,0,0)[0] intercept   : AIC=1970.972, Time=0.06 sec\n",
            " ARIMA(0,1,1)(0,0,0)[0] intercept   : AIC=1839.586, Time=0.50 sec\n",
            " ARIMA(0,1,0)(0,0,0)[0]             : AIC=2209.657, Time=0.02 sec\n",
            " ARIMA(1,1,1)(0,0,0)[0] intercept   : AIC=1839.552, Time=0.67 sec\n",
            " ARIMA(2,1,1)(0,0,0)[0] intercept   : AIC=1841.532, Time=1.68 sec\n",
            " ARIMA(1,1,2)(0,0,0)[0] intercept   : AIC=1843.586, Time=0.52 sec\n",
            " ARIMA(0,1,2)(0,0,0)[0] intercept   : AIC=1839.607, Time=0.22 sec\n",
            " ARIMA(2,1,0)(0,0,0)[0] intercept   : AIC=1922.648, Time=0.09 sec\n",
            " ARIMA(1,1,1)(0,0,0)[0]             : AIC=inf, Time=0.33 sec\n",
            "\n",
            "Best model:  ARIMA(1,1,1)(0,0,0)[0] intercept\n",
            "Total fit time: 5.900 seconds\n"
          ]
        }
      ]
    },
    {
      "cell_type": "code",
      "source": [
        "model.summary()"
      ],
      "metadata": {
        "colab": {
          "base_uri": "https://localhost:8080/",
          "height": 452
        },
        "id": "QtpuicBEoATT",
        "outputId": "6a22c3b6-7763-4676-9349-24108574e6c6"
      },
      "execution_count": 40,
      "outputs": [
        {
          "output_type": "execute_result",
          "data": {
            "text/plain": [
              "<class 'statsmodels.iolib.summary.Summary'>\n",
              "\"\"\"\n",
              "                               SARIMAX Results                                \n",
              "==============================================================================\n",
              "Dep. Variable:                      y   No. Observations:                  366\n",
              "Model:               SARIMAX(1, 1, 1)   Log Likelihood                -915.776\n",
              "Date:                Fri, 04 Oct 2024   AIC                           1839.552\n",
              "Time:                        08:30:01   BIC                           1855.152\n",
              "Sample:                    09-03-2022   HQIC                          1845.752\n",
              "                         - 09-03-2023                                         \n",
              "Covariance Type:                  opg                                         \n",
              "==============================================================================\n",
              "                 coef    std err          z      P>|z|      [0.025      0.975]\n",
              "------------------------------------------------------------------------------\n",
              "intercept      2.8110      0.134     21.055      0.000       2.549       3.073\n",
              "ar.L1         -0.0821      0.052     -1.592      0.111      -0.183       0.019\n",
              "ma.L1         -0.9413      0.020    -47.701      0.000      -0.980      -0.903\n",
              "sigma2         8.7903      0.688     12.777      0.000       7.442      10.139\n",
              "===================================================================================\n",
              "Ljung-Box (L1) (Q):                   0.00   Jarque-Bera (JB):                 0.76\n",
              "Prob(Q):                              1.00   Prob(JB):                         0.68\n",
              "Heteroskedasticity (H):               0.90   Skew:                             0.07\n",
              "Prob(H) (two-sided):                  0.58   Kurtosis:                         2.82\n",
              "===================================================================================\n",
              "\n",
              "Warnings:\n",
              "[1] Covariance matrix calculated using the outer product of gradients (complex-step).\n",
              "\"\"\""
            ],
            "text/html": [
              "<table class=\"simpletable\">\n",
              "<caption>SARIMAX Results</caption>\n",
              "<tr>\n",
              "  <th>Dep. Variable:</th>           <td>y</td>        <th>  No. Observations:  </th>    <td>366</td>  \n",
              "</tr>\n",
              "<tr>\n",
              "  <th>Model:</th>           <td>SARIMAX(1, 1, 1)</td> <th>  Log Likelihood     </th> <td>-915.776</td>\n",
              "</tr>\n",
              "<tr>\n",
              "  <th>Date:</th>            <td>Fri, 04 Oct 2024</td> <th>  AIC                </th> <td>1839.552</td>\n",
              "</tr>\n",
              "<tr>\n",
              "  <th>Time:</th>                <td>08:30:01</td>     <th>  BIC                </th> <td>1855.152</td>\n",
              "</tr>\n",
              "<tr>\n",
              "  <th>Sample:</th>             <td>09-03-2022</td>    <th>  HQIC               </th> <td>1845.752</td>\n",
              "</tr>\n",
              "<tr>\n",
              "  <th></th>                   <td>- 09-03-2023</td>   <th>                     </th>     <td> </td>   \n",
              "</tr>\n",
              "<tr>\n",
              "  <th>Covariance Type:</th>        <td>opg</td>       <th>                     </th>     <td> </td>   \n",
              "</tr>\n",
              "</table>\n",
              "<table class=\"simpletable\">\n",
              "<tr>\n",
              "      <td></td>         <th>coef</th>     <th>std err</th>      <th>z</th>      <th>P>|z|</th>  <th>[0.025</th>    <th>0.975]</th>  \n",
              "</tr>\n",
              "<tr>\n",
              "  <th>intercept</th> <td>    2.8110</td> <td>    0.134</td> <td>   21.055</td> <td> 0.000</td> <td>    2.549</td> <td>    3.073</td>\n",
              "</tr>\n",
              "<tr>\n",
              "  <th>ar.L1</th>     <td>   -0.0821</td> <td>    0.052</td> <td>   -1.592</td> <td> 0.111</td> <td>   -0.183</td> <td>    0.019</td>\n",
              "</tr>\n",
              "<tr>\n",
              "  <th>ma.L1</th>     <td>   -0.9413</td> <td>    0.020</td> <td>  -47.701</td> <td> 0.000</td> <td>   -0.980</td> <td>   -0.903</td>\n",
              "</tr>\n",
              "<tr>\n",
              "  <th>sigma2</th>    <td>    8.7903</td> <td>    0.688</td> <td>   12.777</td> <td> 0.000</td> <td>    7.442</td> <td>   10.139</td>\n",
              "</tr>\n",
              "</table>\n",
              "<table class=\"simpletable\">\n",
              "<tr>\n",
              "  <th>Ljung-Box (L1) (Q):</th>     <td>0.00</td> <th>  Jarque-Bera (JB):  </th> <td>0.76</td>\n",
              "</tr>\n",
              "<tr>\n",
              "  <th>Prob(Q):</th>                <td>1.00</td> <th>  Prob(JB):          </th> <td>0.68</td>\n",
              "</tr>\n",
              "<tr>\n",
              "  <th>Heteroskedasticity (H):</th> <td>0.90</td> <th>  Skew:              </th> <td>0.07</td>\n",
              "</tr>\n",
              "<tr>\n",
              "  <th>Prob(H) (two-sided):</th>    <td>0.58</td> <th>  Kurtosis:          </th> <td>2.82</td>\n",
              "</tr>\n",
              "</table><br/><br/>Warnings:<br/>[1] Covariance matrix calculated using the outer product of gradients (complex-step)."
            ],
            "text/latex": "\\begin{center}\n\\begin{tabular}{lclc}\n\\toprule\n\\textbf{Dep. Variable:}          &        y         & \\textbf{  No. Observations:  } &    366      \\\\\n\\textbf{Model:}                  & SARIMAX(1, 1, 1) & \\textbf{  Log Likelihood     } &  -915.776   \\\\\n\\textbf{Date:}                   & Fri, 04 Oct 2024 & \\textbf{  AIC                } &  1839.552   \\\\\n\\textbf{Time:}                   &     08:30:01     & \\textbf{  BIC                } &  1855.152   \\\\\n\\textbf{Sample:}                 &    09-03-2022    & \\textbf{  HQIC               } &  1845.752   \\\\\n\\textbf{}                        &   - 09-03-2023   & \\textbf{                     } &             \\\\\n\\textbf{Covariance Type:}        &       opg        & \\textbf{                     } &             \\\\\n\\bottomrule\n\\end{tabular}\n\\begin{tabular}{lcccccc}\n                   & \\textbf{coef} & \\textbf{std err} & \\textbf{z} & \\textbf{P$> |$z$|$} & \\textbf{[0.025} & \\textbf{0.975]}  \\\\\n\\midrule\n\\textbf{intercept} &       2.8110  &        0.134     &    21.055  &         0.000        &        2.549    &        3.073     \\\\\n\\textbf{ar.L1}     &      -0.0821  &        0.052     &    -1.592  &         0.111        &       -0.183    &        0.019     \\\\\n\\textbf{ma.L1}     &      -0.9413  &        0.020     &   -47.701  &         0.000        &       -0.980    &       -0.903     \\\\\n\\textbf{sigma2}    &       8.7903  &        0.688     &    12.777  &         0.000        &        7.442    &       10.139     \\\\\n\\bottomrule\n\\end{tabular}\n\\begin{tabular}{lclc}\n\\textbf{Ljung-Box (L1) (Q):}     & 0.00 & \\textbf{  Jarque-Bera (JB):  } & 0.76  \\\\\n\\textbf{Prob(Q):}                & 1.00 & \\textbf{  Prob(JB):          } & 0.68  \\\\\n\\textbf{Heteroskedasticity (H):} & 0.90 & \\textbf{  Skew:              } & 0.07  \\\\\n\\textbf{Prob(H) (two-sided):}    & 0.58 & \\textbf{  Kurtosis:          } & 2.82  \\\\\n\\bottomrule\n\\end{tabular}\n%\\caption{SARIMAX Results}\n\\end{center}\n\nWarnings: \\newline\n [1] Covariance matrix calculated using the outer product of gradients (complex-step)."
          },
          "metadata": {},
          "execution_count": 40
        }
      ]
    },
    {
      "cell_type": "code",
      "source": [
        "forecast = model.predict(60)\n",
        "forecast"
      ],
      "metadata": {
        "colab": {
          "base_uri": "https://localhost:8080/",
          "height": 1000
        },
        "collapsed": true,
        "id": "jNmJeKyeoSC0",
        "outputId": "b095f6eb-65b6-4dc1-db51-1828a656e697"
      },
      "execution_count": 41,
      "outputs": [
        {
          "output_type": "execute_result",
          "data": {
            "text/plain": [
              "2023-09-04 17:10:08.079328    1002.158148\n",
              "2023-09-05 17:10:08.079328    1004.831669\n",
              "2023-09-06 17:10:08.079328    1007.423289\n",
              "2023-09-07 17:10:08.079328    1010.021630\n",
              "2023-09-08 17:10:08.079328    1012.619419\n",
              "2023-09-09 17:10:08.079328    1015.217254\n",
              "2023-09-10 17:10:08.079328    1017.815084\n",
              "2023-09-11 17:10:08.079328    1020.412915\n",
              "2023-09-12 17:10:08.079328    1023.010746\n",
              "2023-09-13 17:10:08.079328    1025.608577\n",
              "2023-09-14 17:10:08.079328    1028.206408\n",
              "2023-09-15 17:10:08.079328    1030.804240\n",
              "2023-09-16 17:10:08.079328    1033.402071\n",
              "2023-09-17 17:10:08.079328    1035.999902\n",
              "2023-09-18 17:10:08.079328    1038.597733\n",
              "2023-09-19 17:10:08.079328    1041.195564\n",
              "2023-09-20 17:10:08.079328    1043.793395\n",
              "2023-09-21 17:10:08.079328    1046.391226\n",
              "2023-09-22 17:10:08.079328    1048.989057\n",
              "2023-09-23 17:10:08.079328    1051.586888\n",
              "2023-09-24 17:10:08.079328    1054.184719\n",
              "2023-09-25 17:10:08.079328    1056.782550\n",
              "2023-09-26 17:10:08.079328    1059.380381\n",
              "2023-09-27 17:10:08.079328    1061.978212\n",
              "2023-09-28 17:10:08.079328    1064.576043\n",
              "2023-09-29 17:10:08.079328    1067.173874\n",
              "2023-09-30 17:10:08.079328    1069.771705\n",
              "2023-10-01 17:10:08.079328    1072.369536\n",
              "2023-10-02 17:10:08.079328    1074.967367\n",
              "2023-10-03 17:10:08.079328    1077.565198\n",
              "2023-10-04 17:10:08.079328    1080.163029\n",
              "2023-10-05 17:10:08.079328    1082.760860\n",
              "2023-10-06 17:10:08.079328    1085.358691\n",
              "2023-10-07 17:10:08.079328    1087.956522\n",
              "2023-10-08 17:10:08.079328    1090.554353\n",
              "2023-10-09 17:10:08.079328    1093.152185\n",
              "2023-10-10 17:10:08.079328    1095.750016\n",
              "2023-10-11 17:10:08.079328    1098.347847\n",
              "2023-10-12 17:10:08.079328    1100.945678\n",
              "2023-10-13 17:10:08.079328    1103.543509\n",
              "2023-10-14 17:10:08.079328    1106.141340\n",
              "2023-10-15 17:10:08.079328    1108.739171\n",
              "2023-10-16 17:10:08.079328    1111.337002\n",
              "2023-10-17 17:10:08.079328    1113.934833\n",
              "2023-10-18 17:10:08.079328    1116.532664\n",
              "2023-10-19 17:10:08.079328    1119.130495\n",
              "2023-10-20 17:10:08.079328    1121.728326\n",
              "2023-10-21 17:10:08.079328    1124.326157\n",
              "2023-10-22 17:10:08.079328    1126.923988\n",
              "2023-10-23 17:10:08.079328    1129.521819\n",
              "2023-10-24 17:10:08.079328    1132.119650\n",
              "2023-10-25 17:10:08.079328    1134.717481\n",
              "2023-10-26 17:10:08.079328    1137.315312\n",
              "2023-10-27 17:10:08.079328    1139.913143\n",
              "2023-10-28 17:10:08.079328    1142.510974\n",
              "2023-10-29 17:10:08.079328    1145.108805\n",
              "2023-10-30 17:10:08.079328    1147.706636\n",
              "2023-10-31 17:10:08.079328    1150.304467\n",
              "2023-11-01 17:10:08.079328    1152.902299\n",
              "2023-11-02 17:10:08.079328    1155.500130\n",
              "Freq: D, dtype: float64"
            ],
            "text/html": [
              "<div>\n",
              "<style scoped>\n",
              "    .dataframe tbody tr th:only-of-type {\n",
              "        vertical-align: middle;\n",
              "    }\n",
              "\n",
              "    .dataframe tbody tr th {\n",
              "        vertical-align: top;\n",
              "    }\n",
              "\n",
              "    .dataframe thead th {\n",
              "        text-align: right;\n",
              "    }\n",
              "</style>\n",
              "<table border=\"1\" class=\"dataframe\">\n",
              "  <thead>\n",
              "    <tr style=\"text-align: right;\">\n",
              "      <th></th>\n",
              "      <th>0</th>\n",
              "    </tr>\n",
              "  </thead>\n",
              "  <tbody>\n",
              "    <tr>\n",
              "      <th>2023-09-04 17:10:08.079328</th>\n",
              "      <td>1002.158148</td>\n",
              "    </tr>\n",
              "    <tr>\n",
              "      <th>2023-09-05 17:10:08.079328</th>\n",
              "      <td>1004.831669</td>\n",
              "    </tr>\n",
              "    <tr>\n",
              "      <th>2023-09-06 17:10:08.079328</th>\n",
              "      <td>1007.423289</td>\n",
              "    </tr>\n",
              "    <tr>\n",
              "      <th>2023-09-07 17:10:08.079328</th>\n",
              "      <td>1010.021630</td>\n",
              "    </tr>\n",
              "    <tr>\n",
              "      <th>2023-09-08 17:10:08.079328</th>\n",
              "      <td>1012.619419</td>\n",
              "    </tr>\n",
              "    <tr>\n",
              "      <th>2023-09-09 17:10:08.079328</th>\n",
              "      <td>1015.217254</td>\n",
              "    </tr>\n",
              "    <tr>\n",
              "      <th>2023-09-10 17:10:08.079328</th>\n",
              "      <td>1017.815084</td>\n",
              "    </tr>\n",
              "    <tr>\n",
              "      <th>2023-09-11 17:10:08.079328</th>\n",
              "      <td>1020.412915</td>\n",
              "    </tr>\n",
              "    <tr>\n",
              "      <th>2023-09-12 17:10:08.079328</th>\n",
              "      <td>1023.010746</td>\n",
              "    </tr>\n",
              "    <tr>\n",
              "      <th>2023-09-13 17:10:08.079328</th>\n",
              "      <td>1025.608577</td>\n",
              "    </tr>\n",
              "    <tr>\n",
              "      <th>2023-09-14 17:10:08.079328</th>\n",
              "      <td>1028.206408</td>\n",
              "    </tr>\n",
              "    <tr>\n",
              "      <th>2023-09-15 17:10:08.079328</th>\n",
              "      <td>1030.804240</td>\n",
              "    </tr>\n",
              "    <tr>\n",
              "      <th>2023-09-16 17:10:08.079328</th>\n",
              "      <td>1033.402071</td>\n",
              "    </tr>\n",
              "    <tr>\n",
              "      <th>2023-09-17 17:10:08.079328</th>\n",
              "      <td>1035.999902</td>\n",
              "    </tr>\n",
              "    <tr>\n",
              "      <th>2023-09-18 17:10:08.079328</th>\n",
              "      <td>1038.597733</td>\n",
              "    </tr>\n",
              "    <tr>\n",
              "      <th>2023-09-19 17:10:08.079328</th>\n",
              "      <td>1041.195564</td>\n",
              "    </tr>\n",
              "    <tr>\n",
              "      <th>2023-09-20 17:10:08.079328</th>\n",
              "      <td>1043.793395</td>\n",
              "    </tr>\n",
              "    <tr>\n",
              "      <th>2023-09-21 17:10:08.079328</th>\n",
              "      <td>1046.391226</td>\n",
              "    </tr>\n",
              "    <tr>\n",
              "      <th>2023-09-22 17:10:08.079328</th>\n",
              "      <td>1048.989057</td>\n",
              "    </tr>\n",
              "    <tr>\n",
              "      <th>2023-09-23 17:10:08.079328</th>\n",
              "      <td>1051.586888</td>\n",
              "    </tr>\n",
              "    <tr>\n",
              "      <th>2023-09-24 17:10:08.079328</th>\n",
              "      <td>1054.184719</td>\n",
              "    </tr>\n",
              "    <tr>\n",
              "      <th>2023-09-25 17:10:08.079328</th>\n",
              "      <td>1056.782550</td>\n",
              "    </tr>\n",
              "    <tr>\n",
              "      <th>2023-09-26 17:10:08.079328</th>\n",
              "      <td>1059.380381</td>\n",
              "    </tr>\n",
              "    <tr>\n",
              "      <th>2023-09-27 17:10:08.079328</th>\n",
              "      <td>1061.978212</td>\n",
              "    </tr>\n",
              "    <tr>\n",
              "      <th>2023-09-28 17:10:08.079328</th>\n",
              "      <td>1064.576043</td>\n",
              "    </tr>\n",
              "    <tr>\n",
              "      <th>2023-09-29 17:10:08.079328</th>\n",
              "      <td>1067.173874</td>\n",
              "    </tr>\n",
              "    <tr>\n",
              "      <th>2023-09-30 17:10:08.079328</th>\n",
              "      <td>1069.771705</td>\n",
              "    </tr>\n",
              "    <tr>\n",
              "      <th>2023-10-01 17:10:08.079328</th>\n",
              "      <td>1072.369536</td>\n",
              "    </tr>\n",
              "    <tr>\n",
              "      <th>2023-10-02 17:10:08.079328</th>\n",
              "      <td>1074.967367</td>\n",
              "    </tr>\n",
              "    <tr>\n",
              "      <th>2023-10-03 17:10:08.079328</th>\n",
              "      <td>1077.565198</td>\n",
              "    </tr>\n",
              "    <tr>\n",
              "      <th>2023-10-04 17:10:08.079328</th>\n",
              "      <td>1080.163029</td>\n",
              "    </tr>\n",
              "    <tr>\n",
              "      <th>2023-10-05 17:10:08.079328</th>\n",
              "      <td>1082.760860</td>\n",
              "    </tr>\n",
              "    <tr>\n",
              "      <th>2023-10-06 17:10:08.079328</th>\n",
              "      <td>1085.358691</td>\n",
              "    </tr>\n",
              "    <tr>\n",
              "      <th>2023-10-07 17:10:08.079328</th>\n",
              "      <td>1087.956522</td>\n",
              "    </tr>\n",
              "    <tr>\n",
              "      <th>2023-10-08 17:10:08.079328</th>\n",
              "      <td>1090.554353</td>\n",
              "    </tr>\n",
              "    <tr>\n",
              "      <th>2023-10-09 17:10:08.079328</th>\n",
              "      <td>1093.152185</td>\n",
              "    </tr>\n",
              "    <tr>\n",
              "      <th>2023-10-10 17:10:08.079328</th>\n",
              "      <td>1095.750016</td>\n",
              "    </tr>\n",
              "    <tr>\n",
              "      <th>2023-10-11 17:10:08.079328</th>\n",
              "      <td>1098.347847</td>\n",
              "    </tr>\n",
              "    <tr>\n",
              "      <th>2023-10-12 17:10:08.079328</th>\n",
              "      <td>1100.945678</td>\n",
              "    </tr>\n",
              "    <tr>\n",
              "      <th>2023-10-13 17:10:08.079328</th>\n",
              "      <td>1103.543509</td>\n",
              "    </tr>\n",
              "    <tr>\n",
              "      <th>2023-10-14 17:10:08.079328</th>\n",
              "      <td>1106.141340</td>\n",
              "    </tr>\n",
              "    <tr>\n",
              "      <th>2023-10-15 17:10:08.079328</th>\n",
              "      <td>1108.739171</td>\n",
              "    </tr>\n",
              "    <tr>\n",
              "      <th>2023-10-16 17:10:08.079328</th>\n",
              "      <td>1111.337002</td>\n",
              "    </tr>\n",
              "    <tr>\n",
              "      <th>2023-10-17 17:10:08.079328</th>\n",
              "      <td>1113.934833</td>\n",
              "    </tr>\n",
              "    <tr>\n",
              "      <th>2023-10-18 17:10:08.079328</th>\n",
              "      <td>1116.532664</td>\n",
              "    </tr>\n",
              "    <tr>\n",
              "      <th>2023-10-19 17:10:08.079328</th>\n",
              "      <td>1119.130495</td>\n",
              "    </tr>\n",
              "    <tr>\n",
              "      <th>2023-10-20 17:10:08.079328</th>\n",
              "      <td>1121.728326</td>\n",
              "    </tr>\n",
              "    <tr>\n",
              "      <th>2023-10-21 17:10:08.079328</th>\n",
              "      <td>1124.326157</td>\n",
              "    </tr>\n",
              "    <tr>\n",
              "      <th>2023-10-22 17:10:08.079328</th>\n",
              "      <td>1126.923988</td>\n",
              "    </tr>\n",
              "    <tr>\n",
              "      <th>2023-10-23 17:10:08.079328</th>\n",
              "      <td>1129.521819</td>\n",
              "    </tr>\n",
              "    <tr>\n",
              "      <th>2023-10-24 17:10:08.079328</th>\n",
              "      <td>1132.119650</td>\n",
              "    </tr>\n",
              "    <tr>\n",
              "      <th>2023-10-25 17:10:08.079328</th>\n",
              "      <td>1134.717481</td>\n",
              "    </tr>\n",
              "    <tr>\n",
              "      <th>2023-10-26 17:10:08.079328</th>\n",
              "      <td>1137.315312</td>\n",
              "    </tr>\n",
              "    <tr>\n",
              "      <th>2023-10-27 17:10:08.079328</th>\n",
              "      <td>1139.913143</td>\n",
              "    </tr>\n",
              "    <tr>\n",
              "      <th>2023-10-28 17:10:08.079328</th>\n",
              "      <td>1142.510974</td>\n",
              "    </tr>\n",
              "    <tr>\n",
              "      <th>2023-10-29 17:10:08.079328</th>\n",
              "      <td>1145.108805</td>\n",
              "    </tr>\n",
              "    <tr>\n",
              "      <th>2023-10-30 17:10:08.079328</th>\n",
              "      <td>1147.706636</td>\n",
              "    </tr>\n",
              "    <tr>\n",
              "      <th>2023-10-31 17:10:08.079328</th>\n",
              "      <td>1150.304467</td>\n",
              "    </tr>\n",
              "    <tr>\n",
              "      <th>2023-11-01 17:10:08.079328</th>\n",
              "      <td>1152.902299</td>\n",
              "    </tr>\n",
              "    <tr>\n",
              "      <th>2023-11-02 17:10:08.079328</th>\n",
              "      <td>1155.500130</td>\n",
              "    </tr>\n",
              "  </tbody>\n",
              "</table>\n",
              "</div><br><label><b>dtype:</b> float64</label>"
            ]
          },
          "metadata": {},
          "execution_count": 41
        }
      ]
    },
    {
      "cell_type": "code",
      "source": [
        "import matplotlib.pyplot as plt\n",
        "\n",
        "fig, axis = plt.subplots(figsize = (10, 5))\n",
        "\n",
        "sns.lineplot(data = ts)\n",
        "sns.lineplot(data = forecast, c = \"green\")\n",
        "\n",
        "plt.tight_layout()\n",
        "\n",
        "plt.show()"
      ],
      "metadata": {
        "colab": {
          "base_uri": "https://localhost:8080/",
          "height": 422
        },
        "id": "cf6QAv3LoY4E",
        "outputId": "037258d5-1388-4f04-a7c5-d843c2200e65"
      },
      "execution_count": 43,
      "outputs": [
        {
          "output_type": "display_data",
          "data": {
            "text/plain": [
              "<Figure size 1000x500 with 1 Axes>"
            ],
            "image/png": "[encoded data removed]"
          },
          "metadata": {}
        }
      ]
    }
  ]
}